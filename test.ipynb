{
 "cells": [
  {
   "cell_type": "code",
   "execution_count": 22,
   "metadata": {},
   "outputs": [
    {
     "name": "stdout",
     "output_type": "stream",
     "text": [
      "Transformation Pipeline and Model Successfully Loaded\n"
     ]
    },
    {
     "data": {
      "text/html": [],
      "text/plain": [
       "<IPython.core.display.HTML object>"
      ]
     },
     "metadata": {},
     "output_type": "display_data"
    },
    {
     "name": "stdout",
     "output_type": "stream",
     "text": [
      "  prediction_label  prediction_score\n",
      "0        Unhealthy            0.8719\n",
      "1        Unhealthy            0.7758\n",
      "2           Health            0.6023\n",
      "3           Health            0.8014\n",
      "4           Health            0.8014\n",
      "5        Unhealthy            0.6139\n",
      "6        Unhealthy            0.7758\n",
      "7           Health            0.6023\n",
      "8        Unhealthy            0.6139\n",
      "9        Unhealthy            0.7758\n"
     ]
    }
   ],
   "source": [
    "import pandas as pd\n",
    "from pycaret.classification import *\n",
    "\n",
    "data_list = [0, 1, 3, 4, 4, 2, 1, 3, 2, 1]\n",
    "\n",
    "# Create a DataFrame from the list\n",
    "column_names = [\"Chews\"]  # Replace with your actual feature names\n",
    "data = pd.DataFrame(data_list, columns=column_names)\n",
    "\n",
    "\n",
    "# Load the saved model\n",
    "loaded_model = load_model('haysay_health_model')\n",
    "\n",
    "predictions = predict_model(loaded_model, data=data)\n",
    "\n",
    "\n",
    "# Convert prediction labels to 'unhealthy' or 'health'\n",
    "predictions['prediction_label'] = predictions['prediction_label'].apply(lambda x: 'Unhealthy' if x == 1 else 'Health')\n",
    "\n",
    "# Print the results\n",
    "print(predictions[['prediction_label', 'prediction_score']])\n",
    "\n"
   ]
  }
 ],
 "metadata": {
  "kernelspec": {
   "display_name": "Python 3",
   "language": "python",
   "name": "python3"
  },
  "language_info": {
   "codemirror_mode": {
    "name": "ipython",
    "version": 3
   },
   "file_extension": ".py",
   "mimetype": "text/x-python",
   "name": "python",
   "nbconvert_exporter": "python",
   "pygments_lexer": "ipython3",
   "version": "3.11.0"
  }
 },
 "nbformat": 4,
 "nbformat_minor": 2
}
