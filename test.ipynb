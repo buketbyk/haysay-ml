{
 "cells": [
  {
   "cell_type": "code",
   "execution_count": 7,
   "metadata": {},
   "outputs": [
    {
     "name": "stdout",
     "output_type": "stream",
     "text": [
      "Unhealthy\n",
      "Unhealthy\n",
      "Healthy\n",
      "Healthy\n",
      "Healthy\n",
      "Unhealthy\n",
      "Unhealthy\n",
      "Healthy\n",
      "Unhealthy\n",
      "Unhealthy\n"
     ]
    }
   ],
   "source": [
    "import pandas as pd\n",
    "import joblib\n",
    "\n",
    "data_list = [0, 1, 3, 4, 4, 2, 1, 3, 2, 1]\n",
    "\n",
    "# Create a DataFrame from the list\n",
    "column_names = [\"Chews\"]  # Replace with your actual feature names\n",
    "data = pd.DataFrame(data_list, columns=column_names)\n",
    "\n",
    "\n",
    "# Load the saved model\n",
    "loaded_model = joblib.load('haysay_health_model.pkl')\n",
    "\n",
    "predictions = loaded_model.predict(data)\n",
    "\n",
    "\n",
    "# Print the corresponding labels\n",
    "for prediction in predictions:\n",
    "    if prediction == 0:\n",
    "        print(\"Healthy\")\n",
    "    else:\n",
    "        print(\"Unhealthy\")\n",
    "\n",
    "\n",
    "# # Convert prediction labels to 'Unhealthy' or 'Health'\n",
    "# predictions_label = 'Unhealthy' if predictions[0] == 1 else 'Health'\n",
    "\n",
    "# # Create a DataFrame with prediction results\n",
    "# results_df = pd.DataFrame({'prediction_label': [predictions_label], 'prediction_score': [None]})  # Replace None with your actual score\n",
    "\n",
    "# # Print the results\n",
    "# print(results_df[['prediction_label', 'prediction_score']])\n"
   ]
  }
 ],
 "metadata": {
  "kernelspec": {
   "display_name": "Python 3",
   "language": "python",
   "name": "python3"
  },
  "language_info": {
   "codemirror_mode": {
    "name": "ipython",
    "version": 3
   },
   "file_extension": ".py",
   "mimetype": "text/x-python",
   "name": "python",
   "nbconvert_exporter": "python",
   "pygments_lexer": "ipython3",
   "version": "3.11.0"
  }
 },
 "nbformat": 4,
 "nbformat_minor": 2
}
